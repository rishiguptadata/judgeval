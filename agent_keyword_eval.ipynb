{
 "cells": [
  {
   "cell_type": "markdown",
   "id": "26e0eef9",
   "metadata": {},
   "source": [
    "# This notebook demonstrates how to evaluate simple text outputs using a custom keyword-based scorer with the judgeval SDK. We test if the answer contains \"Real Madrid\" and log the results to the Judgment dashboard using JudgmentClient."
   ]
  },
  {
   "cell_type": "code",
   "execution_count": 12,
   "id": "47952b10",
   "metadata": {},
   "outputs": [
    {
     "name": "stderr",
     "output_type": "stream",
     "text": [
      "Evaluating 2 example(s) in parallel: |████████████████████████████████|100% (2/2) [Time Taken: 00:00, 1932.41Example/s]"
     ]
    },
    {
     "name": "stdout",
     "output_type": "stream",
     "text": [
      "Logging Results: -"
     ]
    },
    {
     "name": "stderr",
     "output_type": "stream",
     "text": [
      "\n"
     ]
    },
    {
     "name": "stdout",
     "output_type": "stream",
     "text": [
      "                  \r"
     ]
    },
    {
     "data": {
      "text/html": [
       "<pre style=\"white-space:pre;overflow-x:auto;line-height:normal;font-family:Menlo,'DejaVu Sans Mono',consolas,'Courier New',monospace\">\n",
       "🔍 You can view your evaluation results here: <a href=\"https://app.judgmentlabs.ai/app/project/ac35dfd7-b572-484b-94b2-109fef97cafe/experiment?eval_run_name=run_2\" target=\"_blank\"><span style=\"color: #6a00ff; text-decoration-color: #6a00ff\">View Results</span></a>\n",
       "\n",
       "</pre>\n"
      ],
      "text/plain": [
       "\n",
       "🔍 You can view your evaluation results here: \u001b]8;id=36999;https://app.judgmentlabs.ai/app/project/ac35dfd7-b572-484b-94b2-109fef97cafe/experiment?eval_run_name=run_2\u001b\\\u001b[38;2;106;0;255mView Results\u001b[0m\u001b]8;;\u001b\\\n",
       "\n"
      ]
     },
     "metadata": {},
     "output_type": "display_data"
    }
   ],
   "source": [
    "from judgeval.scorers.answer_relevancy import AnswerRelevancyScorer\n",
    "\n",
    "from judgeval import JudgmentClient\n",
    "from judgeval.data import Example\n",
    "from judgeval.scorers.base_scorer import BaseScorer\n",
    "from typing import List\n",
    "from pydantic import Field\n",
    "\n",
    "# Step 1: Create a custom scorer\n",
    "class SimpleKeywordScorer(BaseScorer):\n",
    "    score_type: str = \"Custom\"\n",
    "    required_params: List[str] = Field(default_factory=list)\n",
    "\n",
    "    async def a_score_example(self, example: Example, *args, **kwargs) -> float:\n",
    "        if \"Real Madrid\" in example.actual_output:\n",
    "            return 1.0\n",
    "        else:\n",
    "            return 0.0\n",
    "\n",
    "# Step 2: Initialize client and scorer\n",
    "client = JudgmentClient(\n",
    "    api_key= \"ae1abbce-915a-4688-8ad8-1a7351345014\",\n",
    "    organization_id= \"55082cb3-febb-4aa2-97e0-bf33f247ad6b\"\n",
    ")\n",
    "scorer = SimpleKeywordScorer()\n",
    "\n",
    "# Step 3: Define examples\n",
    "examples = [\n",
    "    Example(input=\"Which club signed Mbappe?\", actual_output=\"Real Madrid signed him.\"),\n",
    "    Example(input=\"Which club signed Mbappe?\", actual_output=\"PSG signed him.\"),\n",
    "]\n",
    "\n",
    "# Step 4: Run the evaluation\n",
    "results = client.run_evaluation(\n",
    "    examples=examples,\n",
    "    scorers=[scorer],\n",
    "    project_name=\"real-madrid-keyword-scorer\",\n",
    "    eval_run_name=\"run_2\"  # or any unique name\n",
    ")\n",
    "\n"
   ]
  },
  {
   "cell_type": "code",
   "execution_count": null,
   "id": "b2220019",
   "metadata": {},
   "outputs": [],
   "source": []
  }
 ],
 "metadata": {
  "kernelspec": {
   "display_name": "Python 3 (ipykernel)",
   "language": "python",
   "name": "python3"
  },
  "language_info": {
   "codemirror_mode": {
    "name": "ipython",
    "version": 3
   },
   "file_extension": ".py",
   "mimetype": "text/x-python",
   "name": "python",
   "nbconvert_exporter": "python",
   "pygments_lexer": "ipython3",
   "version": "3.11.4"
  }
 },
 "nbformat": 4,
 "nbformat_minor": 5
}
